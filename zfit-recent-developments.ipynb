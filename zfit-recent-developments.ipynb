{
 "cells": [
  {
   "cell_type": "markdown",
   "id": "0",
   "metadata": {},
   "source": [
    "# Recent developments and user contributions in zfit.\n",
    "\n",
    "With version 0.20, zfit prepares for a more stable and user-friendly interface. This talk will demonstrate the most significant changes. It is meant for people who are already somewhat familiar with zfit (even from the last tutorial) and want to upgrade their  code.\n",
    "\n",
    "**Not all changes are everywhere reflected in the docs, [help with the docs is welcome](https://github.com/zfit/zfit/issues/556)** as well as [adding a more polished PDF](https://github.com/zfit/zfit/issues/512). (See [all issues with contributions wanted](https://github.com/zfit/zfit/issues?q=is%3Aissue+is%3Aopen+sort%3Aupdated-desc) or [reach out](https://github.com/zfit/zfit#contact) to us on Mattermost, Gitter, GitHub, or e-mail if you're interested **in becoming a contributor**, from beginners to advanced)."
   ]
  },
  {
   "cell_type": "code",
   "execution_count": null,
   "id": "1",
   "metadata": {},
   "outputs": [],
   "source": [
    "import numpy as np\n",
    "\n",
    "# standard imports\n",
    "import zfit\n",
    "import zfit.z.numpy as znp  # use this \"numpy-like\" for mathematical operations\n",
    "import zfit_physics as zphys  # physics module, with new physics-inspired PDFs\n",
    "from zfit import z"
   ]
  },
  {
   "cell_type": "markdown",
   "id": "2",
   "metadata": {},
   "source": [
    "Note: Please use `znp` if possible."
   ]
  },
  {
   "cell_type": "markdown",
   "id": "3",
   "metadata": {},
   "source": [
    "## Parameters\n",
    "\n",
    "The largest upgrade comes from parameters: `NameAlreadyTakenError` is gone! Multiple parameters with the same name can now be created and co-exist. The only limit is: they must not exist within the same PDF/loss etc., as this would lead to ambiguities. This means that you can also rerun cells that define parameters without the need to restart the kernel."
   ]
  },
  {
   "cell_type": "code",
   "execution_count": null,
   "id": "4",
   "metadata": {},
   "outputs": [],
   "source": [
    "param1 = zfit.Parameter(\"param1\", 1, 0, 10)\n",
    "param1too = zfit.Parameter(\"param1\", 2, 0, 10)\n",
    "# no error!"
   ]
  },
  {
   "cell_type": "markdown",
   "id": "5",
   "metadata": {},
   "source": [
    "### Updated params\n",
    "\n",
    "The minimizer currently updates the parameter default values after each minimization. To keep this behavior, add `update_params()` call after the minimization.\n",
    "\n",
    "(experimentally, the update can be disabled with `zfit.run.experimental_disable_param_update(True)`, this will probably be the default in the future. Pay attention that using this experimental features most likely breaks current scripts. Feedback on this new feature is highly welcome!)"
   ]
  },
  {
   "cell_type": "code",
   "execution_count": null,
   "id": "6",
   "metadata": {},
   "outputs": [],
   "source": [
    "obs = zfit.Space(\"x\", limits=(-10, 10))\n",
    "\n",
    "# create the model\n",
    "mu = zfit.Parameter(\"mu\", 2.4, -1, 5)\n",
    "sigma = zfit.Parameter(\"sigma\", 1.3, 0, 5)\n",
    "gauss = zfit.pdf.Gauss(obs=obs, mu=mu, sigma=sigma)\n",
    "\n",
    "# load the data\n",
    "data_np = np.random.normal(size=10000)\n",
    "data = zfit.Data.from_numpy(obs=obs, array=data_np)\n",
    "\n",
    "# build the loss\n",
    "nll = zfit.loss.UnbinnedNLL(model=gauss, data=data)\n",
    "\n",
    "# minimize\n",
    "minimizer = zfit.minimize.Minuit()\n",
    "result = minimizer.minimize(nll).update_params()\n",
    "result"
   ]
  },
  {
   "cell_type": "markdown",
   "id": "7",
   "metadata": {},
   "source": [
    "## Serialization\n",
    "\n",
    "The result can now be pickled like any object in zfit!\n",
    "(this was not possible before, only after calling `freeze` on the result)\n",
    " \n",
    "This works directly using `dill` (a library that extends `pickle`), but can fail if the garbage collector is not run. Therefore, zfit provides a slightly modified `dill` that can work as a drop-in replacement.\n",
    "\n",
    "The objects can be saved and loaded again and used as before. Ideal to store the minimum of a fit and use it later for statistical treatments, plotting, etc."
   ]
  },
  {
   "cell_type": "code",
   "execution_count": null,
   "id": "8",
   "metadata": {},
   "outputs": [],
   "source": [
    "result_serialized = zfit.dill.dumps(result)\n",
    "result_deserialized = zfit.dill.loads(result_serialized)"
   ]
  },
  {
   "cell_type": "code",
   "execution_count": null,
   "id": "9",
   "metadata": {},
   "outputs": [],
   "source": [
    "# the result can be used as before\n",
    "result_deserialized.hesse()  # the default name is now \"hesse\" and not \"minuit_hesse\"\n",
    "result_deserialized.errors()  # the default name is now \"errors\" and not \"minuit_minos\"\n",
    "print(result_deserialized)"
   ]
  },
  {
   "cell_type": "markdown",
   "id": "10",
   "metadata": {},
   "source": [
    "## Labels\n",
    "\n",
    "Many objects, including parameters, can now have a label. This label is purely human-readable and can be used for plotting, printing, etc. It can contain arbitrary characters.\n",
    "\n",
    "The `name` of objects still exists and will in a future version probably be used for identification purpose (in conjunction with serialization). Therefore, use `label` for human-readable names and avoid `name` for that purpose."
   ]
  },
  {
   "cell_type": "code",
   "execution_count": null,
   "id": "11",
   "metadata": {},
   "outputs": [],
   "source": [
    "param1again = zfit.Parameter(\"param1\", 3, 0, 10, label=r\"$param_1$ [GeV$^2$]\")"
   ]
  },
  {
   "cell_type": "markdown",
   "id": "12",
   "metadata": {},
   "source": [
    "## Space\n",
    "\n",
    "As explained [in the github discussion thread](https://github.com/zfit/zfit/discussions/533) there are major improvements and changes.\n",
    "- multispaces (adding two spaces, having disjoint observables) are now deprecated and will be removed. The new `TruncatedPDF` supports multiple spaces as limits and achieves a similar, if not better, functionality.\n",
    "- the return type of `Space.limit` will be changed in the future. For forwards compatibility, use `Space.v1.limit` (or similar methods) instead of `Space.limit`. The old one is still available via `Space.v0.limit`.\n",
    "- new ways of creating spaces\n",
    "\n",
    "More [examples on how to use the new spaces](https://github.com/zfit/zfit/blob/develop/examples/spaces.py)."
   ]
  },
  {
   "cell_type": "code",
   "execution_count": null,
   "id": "13",
   "metadata": {},
   "outputs": [],
   "source": [
    "obs1 = zfit.Space(\"obs1\", -1, 1)  # no tuple needed anymore\n",
    "obs2 = zfit.Space(\"obs2\", lower=-1, upper=1, label=\"observable two\")\n",
    "\n",
    "# create a space with multiple observables\n",
    "obs12 = obs1 * obs2"
   ]
  },
  {
   "cell_type": "code",
   "execution_count": null,
   "id": "14",
   "metadata": {},
   "outputs": [],
   "source": [
    "# limits are now as one would naively expect, and area has been renamed to volume (some are tensors, but that doesn't matter: they behave like numpy arrays)\n",
    "print(f\"old: limits={obs12.v0.limits}\")\n",
    "print(f\"new: limits={obs12.v1.limits}\")  # we have just 1D arrays"
   ]
  },
  {
   "cell_type": "code",
   "execution_count": null,
   "id": "15",
   "metadata": {},
   "outputs": [],
   "source": [
    "# this allows, for example, for a more intuitive way\n",
    "print(np.linspace(*obs12.v0.limits, num=7).shape)\n",
    "print(np.linspace(*obs12.v1.limits, num=7).shape)\n",
    "np.linspace(*obs12.v1.limits, num=7)"
   ]
  },
  {
   "cell_type": "markdown",
   "id": "16",
   "metadata": {},
   "source": [
    "## Data\n",
    "\n",
    "Data handling has been significantly simplified and streamlined.\n",
    "- all places (or most) take directly `numpy` arrays, tensors or `pandas DataFrame` as input, using a `Data` object is not necessary anymore (but convenient, as it cuts the data to the space)\n",
    "- `Data` objects can now be created without the specific constructors (e.g. `zfit.Data.from_pandas`), but directly with the data. The constructors are still available for convenience and for more options.\n",
    "- `Data` objects are now stateless and offer instead `with`-methods to change the data. For example, `with_obs`, `with_weights` (can be `None` to have without weights) etc.\n",
    "- The `SamplerData` has been overhauld and has now a more public API including a `update_data` method that allows to change the data without creating a new object and without relying on a `create_sampler` method from a PDF.\n",
    "- `zfit.data.concat` has been added to concatenate data objects, similar to `pd.concat`."
   ]
  },
  {
   "cell_type": "code",
   "execution_count": null,
   "id": "17",
   "metadata": {},
   "outputs": [],
   "source": [
    "data1_obs1 = zfit.Data(np.random.uniform(0, 1, 1000), obs=obs1)\n",
    "data1_obs2 = zfit.Data(\n",
    "    np.random.uniform(0, 1, 1000), obs=obs2, label=\"My favourite $x$\"\n",
    ")\n",
    "data2_obs1 = zfit.Data(np.random.normal(0, 1, 1000), obs=obs1)\n",
    "\n",
    "# similar like pd.concat\n",
    "data_obs12 = zfit.data.concat([data1_obs1, data1_obs2], axis=\"columns\")\n",
    "data_obs1 = zfit.data.concat([data1_obs1, data2_obs1], axis=\"index\")"
   ]
  },
  {
   "cell_type": "code",
   "execution_count": null,
   "id": "18",
   "metadata": {},
   "outputs": [],
   "source": [
    "# data can be accessed with \"obs\" directly\n",
    "data_obs12[\"obs1\"]  # returns a numpy array shape (n,)\n",
    "data_obs12[[\"obs2\", \"obs1\"]]  # returns a numpy array shape (n, 2)"
   ]
  },
  {
   "cell_type": "markdown",
   "id": "19",
   "metadata": {},
   "source": [
    "## Binning\n",
    "\n",
    "Using a binned space has now the effect of creating a binned version. This happens for `Data` and `PDF` objects."
   ]
  },
  {
   "cell_type": "code",
   "execution_count": null,
   "id": "20",
   "metadata": {},
   "outputs": [],
   "source": [
    "obs1 = zfit.Space(\"obs1\", -1, 1)\n",
    "obs1_binned = obs1.with_binning(12)\n",
    "data_binned = zfit.Data(np.random.normal(0, 0.2, 1000), obs=obs1_binned)"
   ]
  },
  {
   "cell_type": "markdown",
   "id": "21",
   "metadata": {},
   "source": [
    "## PDFs\n",
    "\n",
    "- there are a plethora of new PDFs, mostly covering physics inspired use-cases. Amongst the interesting ones are a `GeneralizedCB`, a more general version of the `DoubleCB` that should be preferred in the future. A Voigt profile is available, Bernstein polynomials, QGauss, GaussExpTail, etc. and in [zfit-physics](https://zfit.readthedocs.io/en/latest/user_api/zfit.pdf.html#physics-pdfs) HEP specific PDFS , from `CMSShape`, `Cruijff`, `Novosibirsk` and more. \n",
    "- the `TruncatedPDF` has been added to allow for a more flexible way of truncating a PDF. Any PDF can be converted to a truncated version using `to_truncated` (which, by default, truncates to the limits of the space).\n",
    "- PDFs have a new `plot` method that allows for a quick plotting of the PDF (it takes an \"obs\" argument that allows to simply project it!). This is still experimental and may changes, the main purpose is to allow for a quick check of the PDF in interactive environments. The function is fully compatible with matplotlib and takes an `ax` argument, it also allows to pass through any keyword arguments to the plotting function."
   ]
  },
  {
   "cell_type": "code",
   "execution_count": null,
   "id": "22",
   "metadata": {},
   "outputs": [],
   "source": [
    "print(zfit.pdf.__all__)"
   ]
  },
  {
   "cell_type": "code",
   "execution_count": null,
   "id": "23",
   "metadata": {},
   "outputs": [],
   "source": [
    "print(zphys.pdf.__all__)"
   ]
  },
  {
   "cell_type": "code",
   "execution_count": null,
   "id": "24",
   "metadata": {},
   "outputs": [],
   "source": [
    "# create a PDF\n",
    "obs1 = zfit.Space(\"obs1\", -3, 5)\n",
    "mu = zfit.Parameter(\"mu\", 1.2)\n",
    "sigma = zfit.Parameter(\"sigma\", 1.1)\n",
    "pdf = zfit.pdf.Gauss(\n",
    "    mu=mu, sigma=sigma, obs=obs1, extended=1000\n",
    ")  # using an extended PDF, the truncated pdf automatically rescales\n",
    "pdf.plot.plotpdf()  # quick plot\n",
    "# truncate it\n",
    "pdf_truncated = pdf.to_truncated(limits=(0, 3))\n",
    "pdf_truncated.plot.plotpdf();"
   ]
  },
  {
   "cell_type": "code",
   "execution_count": null,
   "id": "25",
   "metadata": {},
   "outputs": [],
   "source": [
    "# a truncated PDF can also have multiple limits, replacing the MultiSpace concept\n",
    "range1 = zfit.Space(\n",
    "    \"obs1\", -1, 0, label=\"lower range\"\n",
    ")  # an excellent use-case of a label\n",
    "range2 = zfit.Space(\"obs1\", 1, 3, label=\"upper range\")\n",
    "pdf_disjoint = pdf.to_truncated(limits=(range1, range2))\n",
    "pdf_disjoint.plot.plotpdf();"
   ]
  },
  {
   "cell_type": "code",
   "execution_count": null,
   "id": "26",
   "metadata": {},
   "outputs": [],
   "source": [
    "# binned pdfs from space work like the data\n",
    "gauss_binned = zfit.pdf.Gauss(\n",
    "    mu=zfit.Parameter(\"mu\", 2.5),\n",
    "    sigma=zfit.Parameter(\"sigma\", 1.1),\n",
    "    obs=obs1_binned,\n",
    "    extended=1000,\n",
    ")"
   ]
  },
  {
   "cell_type": "code",
   "execution_count": null,
   "id": "27",
   "metadata": {},
   "outputs": [],
   "source": [
    "print(pdf.pdf(data_obs1.to_numpy()))\n",
    "print(pdf.pdf(data_obs1.to_pandas()))"
   ]
  },
  {
   "cell_type": "markdown",
   "id": "28",
   "metadata": {},
   "source": [
    "## Parameters as arguments\n",
    "\n",
    "The values of the parameters can now be directly used as arguments in functions of PDFs/loss. Methods in the pdf also take the parameters as arguments.\n",
    "\n",
    "The name of the argument has to match the name of the parameter given in initialization (or can also be the parameter itself)."
   ]
  },
  {
   "cell_type": "code",
   "execution_count": null,
   "id": "29",
   "metadata": {},
   "outputs": [],
   "source": [
    "from matplotlib import pyplot as plt\n",
    "\n",
    "x = znp.linspace(*obs1.v1.limits, 1000)\n",
    "plt.plot(x, pdf.pdf(x, params={\"sigma\": 1.5}), label=\"sigma=1.5\")\n",
    "plt.plot(x, pdf.pdf(x, params={sigma: 2.5}), label=\"sigma=2.5\")\n",
    "plt.legend()\n",
    "plt.show()"
   ]
  },
  {
   "cell_type": "markdown",
   "id": "30",
   "metadata": {},
   "source": [
    "## How to write your own PDF"
   ]
  },
  {
   "cell_type": "code",
   "execution_count": null,
   "id": "31",
   "metadata": {},
   "outputs": [],
   "source": [
    "class MyGauss(zfit.pdf.BasePDF):\n",
    "    def __init__(self, mean, std, obs, extended=None, norm=None, name=None, label=None):\n",
    "        params = {\n",
    "            \"mean\": mean,  # 'mean' is the name as it will be named in the PDF, mean is just the parameter to create the PDF\n",
    "            \"std\": std,\n",
    "        }\n",
    "        super().__init__(\n",
    "            obs=obs, params=params, extended=extended, norm=norm, name=name, label=label\n",
    "        )\n",
    "\n",
    "    @zfit.supports()  # this allows the params magic\n",
    "    def _unnormalized_pdf(self, x, params):\n",
    "        x0 = x[0]  # using the 0th axis\n",
    "        mean = params[\"mean\"]\n",
    "        std = params[\"std\"]\n",
    "        return z.exp(-(((x0 - mean) / std) ** 2))"
   ]
  },
  {
   "cell_type": "code",
   "execution_count": null,
   "id": "32",
   "metadata": {},
   "outputs": [],
   "source": [
    "obs = zfit.Space(\"obs1\", -3, 6)\n",
    "data_np = np.random.random(size=1000)\n",
    "data = zfit.Data(data_np, obs=obs)\n",
    "mean = zfit.Parameter(\"mean\", 1.0)\n",
    "std = zfit.Parameter(\"std\", 1.0)\n",
    "my_gauss = MyGauss(obs=obs, mean=mean, std=std)\n",
    "my_gauss.pdf(data)[:20]"
   ]
  },
  {
   "cell_type": "code",
   "execution_count": null,
   "id": "33",
   "metadata": {},
   "outputs": [],
   "source": [
    "def gauss_integral_from_any_to_any(limits, params, model):\n",
    "    lower, upper = limits.v1.limits\n",
    "    mean = params[\"mean\"]\n",
    "    std = params[\"std\"]\n",
    "    # write your integral here\n",
    "    return mean * std  # dummy integral, must be a scalar!"
   ]
  },
  {
   "cell_type": "code",
   "execution_count": null,
   "id": "34",
   "metadata": {},
   "outputs": [],
   "source": [
    "limits = zfit.Space(axes=0, lower=zfit.Space.ANY_LOWER, upper=zfit.Space.ANY_UPPER)\n",
    "MyGauss.register_analytic_integral(func=gauss_integral_from_any_to_any, limits=limits)"
   ]
  },
  {
   "cell_type": "code",
   "execution_count": null,
   "id": "35",
   "metadata": {},
   "outputs": [],
   "source": [
    "import tensorflow_probability as tfp\n",
    "\n",
    "\n",
    "class JohnsonSU(zfit.pdf.WrapDistribution):\n",
    "    _N_OBS = 1\n",
    "\n",
    "    def __init__(\n",
    "        self,\n",
    "        mu,\n",
    "        lambd,\n",
    "        gamma,\n",
    "        delta,\n",
    "        obs,\n",
    "        extended=None,\n",
    "        norm=None,\n",
    "        name=\"JohnsonSU\",\n",
    "        label=None,\n",
    "    ):\n",
    "        mu, lambd, gamma, delta = self._check_input_params_tfp(mu, lambd, gamma, delta)\n",
    "        params = {\"mu\": mu, \"lambd\": lambd, \"gamma\": gamma, \"delta\": delta}\n",
    "\n",
    "        def dist_params():\n",
    "            return {\n",
    "                \"skewness\": gamma.value(),\n",
    "                \"tailweight\": delta.value(),\n",
    "                \"loc\": mu.value(),\n",
    "                \"scale\": lambd.value(),\n",
    "            }\n",
    "\n",
    "        distribution = tfp.distributions.JohnsonSU\n",
    "        super().__init__(\n",
    "            distribution=distribution,\n",
    "            dist_params=dist_params,\n",
    "            obs=obs,\n",
    "            params=params,\n",
    "            name=name,\n",
    "            extended=extended,\n",
    "            norm=norm,\n",
    "            label=label,\n",
    "        )"
   ]
  },
  {
   "cell_type": "code",
   "execution_count": null,
   "id": "36",
   "metadata": {},
   "outputs": [],
   "source": [
    "obs = zfit.Space(\"obs1\", 1, 10)\n",
    "data_np = np.random.uniform(low=1, high=10, size=1000)\n",
    "data = zfit.Data(data_np, obs=obs)\n",
    "mu = zfit.Parameter(\"mu\", 8.0)\n",
    "lambd = zfit.Parameter(\"std\", 4.0)\n",
    "gamma = zfit.Parameter(\"gamma\", 2.0)\n",
    "delta = zfit.Parameter(\"delta\", 3.0)\n",
    "my_johnson = JohnsonSU(obs=obs, mu=mu, lambd=lambd, gamma=gamma, delta=delta)\n",
    "my_johnson.pdf(data)[:20]"
   ]
  }
 ],
 "metadata": {
  "kernelspec": {
   "display_name": "Python 3 (ipykernel)",
   "language": "python",
   "name": "python3"
  },
  "language_info": {
   "codemirror_mode": {
    "name": "ipython",
    "version": 3
   },
   "file_extension": ".py",
   "mimetype": "text/x-python",
   "name": "python",
   "nbconvert_exporter": "python",
   "pygments_lexer": "ipython3",
   "version": "3.11.9"
  }
 },
 "nbformat": 4,
 "nbformat_minor": 5
}
