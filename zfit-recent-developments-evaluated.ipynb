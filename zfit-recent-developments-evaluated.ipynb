{
 "cells": [
  {
   "cell_type": "markdown",
   "id": "b1ae9271-a2ac-4028-833d-2fc74bc16e60",
   "metadata": {},
   "source": [
    "# Recent developments and user contributions in zfit.\n",
    "\n",
    "With version 0.20, zfit prepares for a more stable and user-friendly interface. This talk will demonstrate the most significant changes. It is meant for people who are already somewhat familiar with zfit (even from the last tutorial) and want to upgrade their  code.\n",
    "\n",
    "**Not all changes are everywhere reflected in the docs, [help with the docs is welcome](https://github.com/zfit/zfit/issues/556)** as well as [adding a more polished PDF](https://github.com/zfit/zfit/issues/512). (See [all issues with contributions wanted](https://github.com/zfit/zfit/issues?q=is%3Aissue+is%3Aopen+sort%3Aupdated-desc) or [reach out](https://github.com/zfit/zfit#contact) to us on Mattermost, Gitter, GitHub, or e-mail if you're interested **in becoming a contributor**, from beginners to advanced)."
   ]
  },
  {
   "cell_type": "code",
   "execution_count": 1,
   "id": "50252bda-6498-4d33-886b-fc73f85de8da",
   "metadata": {},
   "outputs": [
    {
     "name": "stderr",
     "output_type": "stream",
     "text": [
      "/Users/iason/fun/pyhep2024-zfit-recent-developments/.venv/lib/python3.11/site-packages/zfit/__init__.py:59: UserWarning: TensorFlow warnings are by default suppressed by zfit. In order to show them, set the environment variable ZFIT_DISABLE_TF_WARNINGS=0. In order to suppress the TensorFlow warnings AND this warning, set ZFIT_DISABLE_TF_WARNINGS=1.\n",
      "  warnings.warn(\n"
     ]
    }
   ],
   "source": [
    "import numpy as np\n",
    "\n",
    "# standard imports\n",
    "import zfit\n",
    "import zfit.z.numpy as znp  # use this \"numpy-like\" for mathematical operations\n",
    "import zfit_physics as zphys  # physics module, with new physics-inspired PDFs\n",
    "from zfit import z"
   ]
  },
  {
   "cell_type": "markdown",
   "id": "ddc988b6-e9ba-45b2-98bd-bb499688a878",
   "metadata": {},
   "source": [
    "Note: Please use `znp` if possible."
   ]
  },
  {
   "cell_type": "markdown",
   "id": "01d96ce6-7c10-4f07-ad54-e70295999011",
   "metadata": {},
   "source": [
    "## Parameters\n",
    "\n",
    "The largest upgrade comes from parameters: `NameAlreadyTakenError` is gone! Multiple parameters with the same name can now be created and co-exist. The only limit is: they must not exist within the same PDF/loss etc., as this would lead to ambiguities. This means that you can also rerun cells that define parameters without the need to restart the kernel."
   ]
  },
  {
   "cell_type": "code",
   "execution_count": 2,
   "id": "7dca7399-c695-4111-b045-5dae41a59036",
   "metadata": {},
   "outputs": [],
   "source": [
    "param1 = zfit.Parameter(\"param1\", 1, 0, 10)\n",
    "param1too = zfit.Parameter(\"param1\", 2, 0, 10)\n",
    "# no error!"
   ]
  },
  {
   "cell_type": "markdown",
   "id": "b1b2000b-e697-48e9-8bb6-e02b4a4fc57a",
   "metadata": {},
   "source": [
    "### Updated params\n",
    "\n",
    "The minimizer currently updates the parameter default values after each minimization. To keep this behavior, add `update_params()` call after the minimization.\n",
    "\n",
    "(experimentally, the update can be disabled with `zfit.run.experimental_disable_param_update(True)`, this will probably be the default in the future. Pay attention that using this experimental features most likely breaks current scripts. Feedback on this new feature is highly welcome!)"
   ]
  },
  {
   "cell_type": "code",
   "execution_count": 3,
   "id": "042e2b03-d95a-46a0-85ab-1a4ba3f30df5",
   "metadata": {},
   "outputs": [
    {
     "data": {
      "text/plain": [
       "\u001b[1mFitResult\u001b[22m of\n",
       "<UnbinnedNLL model=[<zfit.<class 'zfit.models.dist_tfp.Gauss'>  params=[mu, sigma]] data=[<zfit.Data: Data obs=('x',) shape=(10000, 1)>] constraints=[]> \n",
       "with\n",
       "<Minuit Minuit tol=0.001>\n",
       "\n",
       "╒═════════╤═════════════╤══════════════════╤═════════╤══════════════════════════════╕\n",
       "│  valid  │  converged  │  param at limit  │   edm   │   approx. fmin (full | opt.) │\n",
       "╞═════════╪═════════════╪══════════════════╪═════════╪══════════════════════════════╡\n",
       "│  \u001b[48;5;10mTrue\u001b[0m   │    True\u001b[0m     │      False\u001b[0m       │ 4.9e-08 │         14315.44 | -7525.662 │\n",
       "╘═════════╧═════════════╧══════════════════╧═════════╧══════════════════════════════╛\n",
       "\n",
       "\u001b[1mParameters\n",
       "\u001b[22mname      value  (rounded)    at limit\n",
       "------  ------------------  ----------\n",
       "mu              0.00334129       False\u001b[0m\n",
       "sigma              1.01269       False\u001b[0m"
      ]
     },
     "execution_count": 3,
     "metadata": {},
     "output_type": "execute_result"
    }
   ],
   "source": [
    "obs = zfit.Space(\"x\", limits=(-10, 10))\n",
    "\n",
    "# create the model\n",
    "mu = zfit.Parameter(\"mu\", 2.4, -1, 5)\n",
    "sigma = zfit.Parameter(\"sigma\", 1.3, 0, 5)\n",
    "gauss = zfit.pdf.Gauss(obs=obs, mu=mu, sigma=sigma)\n",
    "\n",
    "# load the data\n",
    "data_np = np.random.normal(size=10000)\n",
    "data = zfit.Data.from_numpy(obs=obs, array=data_np)\n",
    "\n",
    "# build the loss\n",
    "nll = zfit.loss.UnbinnedNLL(model=gauss, data=data)\n",
    "\n",
    "# minimize\n",
    "minimizer = zfit.minimize.Minuit()\n",
    "result = minimizer.minimize(nll).update_params()\n",
    "result"
   ]
  },
  {
   "cell_type": "markdown",
   "id": "5b9674b0-1dc2-4d4c-8d12-c10030282bed",
   "metadata": {},
   "source": [
    "## Serialization\n",
    "\n",
    "The result can now be pickled like any object in zfit!\n",
    "(this was not possible before, only after calling `freeze` on the result)\n",
    " \n",
    "This works directly using `dill` (a library that extends `pickle`), but can fail if the garbage collector is not run. Therefore, zfit provides a slightly modified `dill` that can work as a drop-in replacement.\n",
    "\n",
    "The objects can be saved and loaded again and used as before. Ideal to store the minimum of a fit and use it later for statistical treatments, plotting, etc."
   ]
  },
  {
   "cell_type": "code",
   "execution_count": 4,
   "id": "29609583-a62d-4e4b-b252-e0956f3ef1d4",
   "metadata": {},
   "outputs": [],
   "source": [
    "result_serialized = zfit.dill.dumps(result)\n",
    "result_deserialized = zfit.dill.loads(result_serialized)"
   ]
  },
  {
   "cell_type": "code",
   "execution_count": 5,
   "id": "3e34eec9-81bd-49e5-9a0c-87176f9fc640",
   "metadata": {},
   "outputs": [
    {
     "name": "stdout",
     "output_type": "stream",
     "text": [
      "FitResult of\n",
      "<UnbinnedNLL model=[<zfit.<class 'zfit.models.dist_tfp.Gauss'>  params=[mu, sigma]] data=[<zfit.Data: Data obs=('x',) shape=(10000, 1)>] constraints=[]> \n",
      "with\n",
      "<Minuit Minuit tol=0.001>\n",
      "\n",
      "╒═════════╤═════════════╤══════════════════╤═════════╤══════════════════════════════╕\n",
      "│  valid  │  converged  │  param at limit  │   edm   │   approx. fmin (full | opt.) │\n",
      "╞═════════╪═════════════╪══════════════════╪═════════╪══════════════════════════════╡\n",
      "│  True   │    True     │      False       │ 4.9e-08 │         14315.44 | -7525.662 │\n",
      "╘═════════╧═════════════╧══════════════════╧═════════╧══════════════════════════════╛\n",
      "\n",
      "Parameters\n",
      "name      value  (rounded)        hesse               errors    at limit\n",
      "------  ------------------  -----------  -------------------  ----------\n",
      "mu              0.00334129  +/-    0.01  -   0.01   +   0.01       False\n",
      "sigma              1.01269  +/-  0.0072  - 0.0071   + 0.0072       False\n"
     ]
    }
   ],
   "source": [
    "# the result can be used as before\n",
    "result_deserialized.hesse()  # the default name is now \"hesse\" and not \"minuit_hesse\"\n",
    "result_deserialized.errors()  # the default name is now \"errors\" and not \"minuit_minos\"\n",
    "print(result_deserialized)"
   ]
  },
  {
   "cell_type": "markdown",
   "id": "924f84cf-3dbc-4d4b-ab30-3fac29715ea1",
   "metadata": {},
   "source": [
    "## Labels\n",
    "\n",
    "Many objects, including parameters, can now have a label. This label is purely human-readable and can be used for plotting, printing, etc. It can contain arbitrary characters.\n",
    "\n",
    "The `name` of objects still exists and will in a future version probably be used for identification purpose (in conjunction with serialization). Therefore, use `label` for human-readable names and avoid `name` for that purpose."
   ]
  },
  {
   "cell_type": "code",
   "execution_count": 6,
   "id": "44043a0f-c32f-441a-955c-d78145677bb0",
   "metadata": {},
   "outputs": [],
   "source": [
    "param1again = zfit.Parameter(\"param1\", 3, 0, 10, label=r\"$param_1$ [GeV$^2$]\")"
   ]
  },
  {
   "cell_type": "markdown",
   "id": "03439909-1442-4aa6-9896-eb8a03a898aa",
   "metadata": {},
   "source": [
    "## Space\n",
    "\n",
    "As explained [in the github discussion thread](https://github.com/zfit/zfit/discussions/533) there are major improvements and changes.\n",
    "- multispaces (adding two spaces, having disjoint observables) are now deprecated and will be removed. The new `TruncatedPDF` supports multiple spaces as limits and achieves a similar, if not better, functionality.\n",
    "- the return type of `Space.limit` will be changed in the future. For forwards compatibility, use `Space.v1.limit` (or similar methods) instead of `Space.limit`. The old one is still available via `Space.v0.limit`.\n",
    "- new ways of creating spaces\n",
    "\n",
    "More [examples on how to use the new spaces](https://github.com/zfit/zfit/blob/develop/examples/spaces.py)."
   ]
  },
  {
   "cell_type": "code",
   "execution_count": 7,
   "id": "f74babd6-2654-4833-93d2-71ed4e8ad7b2",
   "metadata": {},
   "outputs": [],
   "source": [
    "obs1 = zfit.Space(\"obs1\", -1, 1)  # no tuple needed anymore\n",
    "obs2 = zfit.Space(\"obs2\", lower=-1, upper=1, label=\"observable two\")\n",
    "\n",
    "# create a space with multiple observables\n",
    "obs12 = obs1 * obs2"
   ]
  },
  {
   "cell_type": "code",
   "execution_count": 8,
   "id": "55725c03-4da0-4c12-a260-a548d48644a8",
   "metadata": {},
   "outputs": [
    {
     "name": "stdout",
     "output_type": "stream",
     "text": [
      "old: limits=(array([[-1., -1.]]), array([[1., 1.]]))\n",
      "new: limits=(<tf.Tensor: shape=(2,), dtype=float64, numpy=array([-1., -1.])>, <tf.Tensor: shape=(2,), dtype=float64, numpy=array([1., 1.])>)\n"
     ]
    }
   ],
   "source": [
    "# limits are now as one would naively expect, and area has been renamed to volume (some are tensors, but that doesn't matter: they behave like numpy arrays)\n",
    "print(f\"old: limits={obs12.v0.limits}\")\n",
    "print(f\"new: limits={obs12.v1.limits}\")  # we have just 1D arrays"
   ]
  },
  {
   "cell_type": "code",
   "execution_count": 9,
   "id": "935e9310-c879-4b4f-9555-4d006b7c5d22",
   "metadata": {},
   "outputs": [
    {
     "name": "stdout",
     "output_type": "stream",
     "text": [
      "(7, 1, 2)\n",
      "(7, 2)\n"
     ]
    },
    {
     "data": {
      "text/plain": [
       "array([[-1.        , -1.        ],\n",
       "       [-0.66666667, -0.66666667],\n",
       "       [-0.33333333, -0.33333333],\n",
       "       [ 0.        ,  0.        ],\n",
       "       [ 0.33333333,  0.33333333],\n",
       "       [ 0.66666667,  0.66666667],\n",
       "       [ 1.        ,  1.        ]])"
      ]
     },
     "execution_count": 9,
     "metadata": {},
     "output_type": "execute_result"
    }
   ],
   "source": [
    "# this allows, for example, for a more intuitive way\n",
    "print(np.linspace(*obs12.v0.limits, num=7).shape)\n",
    "print(np.linspace(*obs12.v1.limits, num=7).shape)\n",
    "np.linspace(*obs12.v1.limits, num=7)"
   ]
  },
  {
   "cell_type": "markdown",
   "id": "8841fdd6-05fd-4f9c-a3ed-85481afb67ca",
   "metadata": {},
   "source": [
    "## Data\n",
    "\n",
    "Data handling has been significantly simplified and streamlined.\n",
    "- all places (or most) take directly `numpy` arrays, tensors or `pandas DataFrame` as input, using a `Data` object is not necessary anymore (but convenient, as it cuts the data to the space)\n",
    "- `Data` objects can now be created without the specific constructors (e.g. `zfit.Data.from_pandas`), but directly with the data. The constructors are still available for convenience and for more options.\n",
    "- `Data` objects are now stateless and offer instead `with`-methods to change the data. For example, `with_obs`, `with_weights` (can be `None` to have without weights) etc.\n",
    "- The `SamplerData` has been overhauld and has now a more public API including a `update_data` method that allows to change the data without creating a new object and without relying on a `create_sampler` method from a PDF.\n",
    "- `zfit.data.concat` has been added to concatenate data objects, similar to `pd.concat`."
   ]
  },
  {
   "cell_type": "code",
   "execution_count": 10,
   "id": "3a4e8aa4-cec7-4d06-a102-3223b8a31fa7",
   "metadata": {},
   "outputs": [],
   "source": [
    "data1_obs1 = zfit.Data(np.random.uniform(0, 1, 1000), obs=obs1)\n",
    "data1_obs2 = zfit.Data(\n",
    "    np.random.uniform(0, 1, 1000), obs=obs2, label=\"My favourite $x$\"\n",
    ")\n",
    "data2_obs1 = zfit.Data(np.random.normal(0, 1, 1000), obs=obs1)\n",
    "\n",
    "# similar like pd.concat\n",
    "data_obs12 = zfit.data.concat([data1_obs1, data1_obs2], axis=\"columns\")\n",
    "data_obs1 = zfit.data.concat([data1_obs1, data2_obs1], axis=\"index\")"
   ]
  },
  {
   "cell_type": "code",
   "execution_count": 11,
   "id": "5ae91153-a2f3-4512-b6d2-ad81ce5fe1ee",
   "metadata": {},
   "outputs": [
    {
     "data": {
      "text/plain": [
       "<tf.Tensor: shape=(1000, 2), dtype=float64, numpy=\n",
       "array([[0.08341046, 0.80347605],\n",
       "       [0.66765008, 0.50110249],\n",
       "       [0.50354534, 0.49786352],\n",
       "       ...,\n",
       "       [0.42548589, 0.1400988 ],\n",
       "       [0.52508943, 0.96477593],\n",
       "       [0.54233952, 0.11564967]])>"
      ]
     },
     "execution_count": 11,
     "metadata": {},
     "output_type": "execute_result"
    }
   ],
   "source": [
    "# data can be accessed with \"obs\" directly\n",
    "data_obs12[\"obs1\"]  # returns a numpy array shape (n,)\n",
    "data_obs12[[\"obs2\", \"obs1\"]]  # returns a numpy array shape (n, 2)"
   ]
  },
  {
   "cell_type": "markdown",
   "id": "988b4c6d-198f-4046-95dd-e6f6a0e8865d",
   "metadata": {},
   "source": [
    "## Binning\n",
    "\n",
    "Using a binned space has now the effect of creating a binned version. This happens for `Data` and `PDF` objects."
   ]
  },
  {
   "cell_type": "code",
   "execution_count": 12,
   "id": "cefb9876-1f90-40d0-a9a6-731c7c4583c4",
   "metadata": {},
   "outputs": [],
   "source": [
    "obs1 = zfit.Space(\"obs1\", -1, 1)\n",
    "obs1_binned = obs1.with_binning(12)\n",
    "data_binned = zfit.Data(np.random.normal(0, 0.2, 1000), obs=obs1_binned)"
   ]
  },
  {
   "cell_type": "markdown",
   "id": "7827f7a0-35fd-4008-b27b-be2fe8447b4a",
   "metadata": {},
   "source": [
    "## PDFs\n",
    "\n",
    "- there are a plethora of new PDFs, mostly covering physics inspired use-cases. Amongst the interesting ones are a `GeneralizedCB`, a more general version of the `DoubleCB` that should be preferred in the future. A Voigt profile is available, Bernstein polynomials, QGauss, GaussExpTail, etc. and in [zfit-physics](https://zfit.readthedocs.io/en/latest/user_api/zfit.pdf.html#physics-pdfs) HEP specific PDFS , from `CMSShape`, `Cruijff`, `Novosibirsk` and more. \n",
    "- the `TruncatedPDF` has been added to allow for a more flexible way of truncating a PDF. Any PDF can be converted to a truncated version using `to_truncated` (which, by default, truncates to the limits of the space).\n",
    "- PDFs have a new `plot` method that allows for a quick plotting of the PDF (it takes an \"obs\" argument that allows to simply project it!). This is still experimental and may changes, the main purpose is to allow for a quick check of the PDF in interactive environments. The function is fully compatible with matplotlib and takes an `ax` argument, it also allows to pass through any keyword arguments to the plotting function."
   ]
  },
  {
   "cell_type": "code",
   "execution_count": 13,
   "id": "7f62ed22-d4f4-45b5-8713-caf334fc564a",
   "metadata": {},
   "outputs": [
    {
     "name": "stdout",
     "output_type": "stream",
     "text": [
      "['BasePDF', 'BaseFunctor', 'Exponential', 'Voigt', 'CrystalBall', 'DoubleCB', 'GeneralizedCB', 'GaussExpTail', 'GeneralizedGaussExpTail', 'Gauss', 'BifurGauss', 'Uniform', 'TruncatedGauss', 'WrapDistribution', 'Cauchy', 'Poisson', 'QGauss', 'ChiSquared', 'StudentT', 'Gamma', 'Bernstein', 'Chebyshev', 'Legendre', 'Chebyshev2', 'Hermite', 'Laguerre', 'RecursivePolynomial', 'ProductPDF', 'SumPDF', 'GaussianKDE1DimV1', 'KDE1DimGrid', 'KDE1DimExact', 'KDE1DimFFT', 'KDE1DimISJ', 'FFTConvPDFV1', 'ConditionalPDFV1', 'ZPDF', 'SimplePDF', 'SimpleFunctorPDF', 'UnbinnedFromBinnedPDF', 'BinnedFromUnbinnedPDF', 'HistogramPDF', 'SplineMorphingPDF', 'BinwiseScaleModifier', 'BinnedSumPDF', 'SplinePDF', 'TruncatedPDF', 'LogNormal', 'CachedPDF']\n"
     ]
    }
   ],
   "source": [
    "print(zfit.pdf.__all__)"
   ]
  },
  {
   "cell_type": "code",
   "execution_count": 14,
   "id": "4b9225a5-dabb-4ddc-bc64-61b55a4051c5",
   "metadata": {},
   "outputs": [
    {
     "name": "stdout",
     "output_type": "stream",
     "text": [
      "['Argus', 'RelativisticBreitWigner', 'CMSShape', 'Cruijff', 'ErfExp', 'Novosibirsk', 'Tsallis']\n"
     ]
    }
   ],
   "source": [
    "print(zphys.pdf.__all__)"
   ]
  },
  {
   "cell_type": "code",
   "execution_count": 15,
   "id": "96ef116f-4fcb-4328-aa08-541e5f04ae60",
   "metadata": {},
   "outputs": [
    {
     "name": "stderr",
     "output_type": "stream",
     "text": [
      "/var/folders/2c/94kt72fs0_q_9nzr2y5jphb00000gn/T/ipykernel_11946/497843262.py:8: ExperimentalFeatureWarning: The function <function assert_initialized.<locals>.wrapper at 0x318915b20> is EXPERIMENTAL, potentially unstable and likely to change in the future! Use it with caution and feedback (Gitter, Mattermost, e-mail or https://github.com/zfit/zfit/issues) is very welcome!\n",
      "  pdf.plot.plotpdf()  # quick plot\n"
     ]
    },
    {
     "data": {
      "image/png": "[encoded data removed]",
      "text/plain": [
       "<Figure size 640x480 with 1 Axes>"
      ]
     },
     "metadata": {},
     "output_type": "display_data"
    }
   ],
   "source": [
    "# create a PDF\n",
    "obs1 = zfit.Space(\"obs1\", -3, 5)\n",
    "mu = zfit.Parameter(\"mu\", 1.2)\n",
    "sigma = zfit.Parameter(\"sigma\", 1.1)\n",
    "pdf = zfit.pdf.Gauss(\n",
    "    mu=mu, sigma=sigma, obs=obs1, extended=1000\n",
    ")  # using an extended PDF, the truncated pdf automatically rescales\n",
    "pdf.plot.plotpdf()  # quick plot\n",
    "# truncate it\n",
    "pdf_truncated = pdf.to_truncated(limits=(0, 3))\n",
    "pdf_truncated.plot.plotpdf();"
   ]
  },
  {
   "cell_type": "code",
   "execution_count": 16,
   "id": "71cad224-0f38-4e8b-acbc-230416bd0f8e",
   "metadata": {},
   "outputs": [
    {
     "data": {
      "image/png": "[encoded data removed]",
      "text/plain": [
       "<Figure size 640x480 with 1 Axes>"
      ]
     },
     "metadata": {},
     "output_type": "display_data"
    }
   ],
   "source": [
    "# a truncated PDF can also have multiple limits, replacing the MultiSpace concept\n",
    "range1 = zfit.Space(\n",
    "    \"obs1\", -1, 0, label=\"lower range\"\n",
    ")  # an excellent use-case of a label\n",
    "range2 = zfit.Space(\"obs1\", 1, 3, label=\"upper range\")\n",
    "pdf_disjoint = pdf.to_truncated(limits=(range1, range2))\n",
    "pdf_disjoint.plot.plotpdf();"
   ]
  },
  {
   "cell_type": "code",
   "execution_count": 17,
   "id": "8438d577-acb9-4c96-a37a-b27322e7cf10",
   "metadata": {},
   "outputs": [
    {
     "name": "stderr",
     "output_type": "stream",
     "text": [
      "/Users/iason/fun/pyhep2024-zfit-recent-developments/.venv/lib/python3.11/site-packages/zfit/models/tobinned.py:71: AdvancedFeatureWarning: Either you're using an advanced feature OR causing unwanted behavior. To turn this warning off, use `zfit.settings.advanced_warnings['extend_wrapped_extended'] = False`  or 'all' (use with care) with `zfit.settings.advanced_warnings['all'] = False\n",
      "PDF Gauss Gauss is already extended, but extended also given 1000. Will use the given yield.\n",
      "  warn_advanced_feature(\n"
     ]
    }
   ],
   "source": [
    "# binned pdfs from space work like the data\n",
    "gauss_binned = zfit.pdf.Gauss(\n",
    "    mu=zfit.Parameter(\"mu\", 2.5),\n",
    "    sigma=zfit.Parameter(\"sigma\", 1.1),\n",
    "    obs=obs1_binned,\n",
    "    extended=1000,\n",
    ")"
   ]
  },
  {
   "cell_type": "code",
   "execution_count": 18,
   "id": "9297e157-6ff4-43a1-97d4-93e726c81c19",
   "metadata": {},
   "outputs": [
    {
     "name": "stdout",
     "output_type": "stream",
     "text": [
      "tf.Tensor([0.33997697 0.2964882  0.29593276 ... 0.15781825 0.11079488 0.12518359], shape=(1685,), dtype=float64)\n",
      "tf.Tensor([0.33997697 0.2964882  0.29593276 ... 0.15781825 0.11079488 0.12518359], shape=(1685,), dtype=float64)\n"
     ]
    }
   ],
   "source": [
    "print(pdf.pdf(data_obs1.to_numpy()))\n",
    "print(pdf.pdf(data_obs1.to_pandas()))"
   ]
  },
  {
   "cell_type": "markdown",
   "id": "4ce1b603-06ff-45bf-9844-2a396b690ecc",
   "metadata": {},
   "source": [
    "## Parameters as arguments\n",
    "\n",
    "The values of the parameters can now be directly used as arguments in functions of PDFs/loss. Methods in the pdf also take the parameters as arguments.\n",
    "\n",
    "The name of the argument has to match the name of the parameter given in initialization (or can also be the parameter itself)."
   ]
  },
  {
   "cell_type": "code",
   "execution_count": 19,
   "id": "33",
   "metadata": {},
   "outputs": [
    {
     "data": {
      "image/png": "[encoded data removed]",
      "text/plain": [
       "<Figure size 640x480 with 1 Axes>"
      ]
     },
     "metadata": {},
     "output_type": "display_data"
    }
   ],
   "source": [
    "from matplotlib import pyplot as plt\n",
    "\n",
    "x = znp.linspace(*obs1.v1.limits, 1000)\n",
    "plt.plot(x, pdf.pdf(x, params={\"sigma\": 1.5}), label=\"sigma=1.5\")\n",
    "plt.plot(x, pdf.pdf(x, params={sigma: 2.5}), label=\"sigma=2.5\")\n",
    "plt.legend()\n",
    "plt.show()"
   ]
  },
  {
   "cell_type": "markdown",
   "id": "1e9cd17b-fad5-4ed7-8d5d-234bd0c81596",
   "metadata": {},
   "source": [
    "## How to write your own PDF"
   ]
  },
  {
   "cell_type": "code",
   "execution_count": 20,
   "id": "36",
   "metadata": {},
   "outputs": [],
   "source": [
    "class MyGauss(zfit.pdf.BasePDF):\n",
    "    def __init__(self, mean, std, obs, extended=None, norm=None, name=None, label=None):\n",
    "        params = {\n",
    "            \"mean\": mean,  # 'mean' is the name as it will be named in the PDF, mean is just the parameter to create the PDF\n",
    "            \"std\": std,\n",
    "        }\n",
    "        super().__init__(\n",
    "            obs=obs, params=params, extended=extended, norm=norm, name=name, label=label\n",
    "        )\n",
    "\n",
    "    @zfit.supports()  # this allows the params magic\n",
    "    def _unnormalized_pdf(self, x, params):\n",
    "        x0 = x[0]  # using the 0th axis\n",
    "        mean = params[\"mean\"]\n",
    "        std = params[\"std\"]\n",
    "        return z.exp(-(((x0 - mean) / std) ** 2))"
   ]
  },
  {
   "cell_type": "code",
   "execution_count": 21,
   "id": "37",
   "metadata": {},
   "outputs": [
    {
     "data": {
      "text/plain": [
       "<tf.Tensor: shape=(20,), dtype=float64, numpy=\n",
       "array([0.30058698, 0.38976821, 0.54148486, 0.22375747, 0.51414397,\n",
       "       0.20841814, 0.56060405, 0.44988246, 0.53459402, 0.27695495,\n",
       "       0.24309867, 0.31592892, 0.37713048, 0.45234244, 0.51240541,\n",
       "       0.37541017, 0.32950433, 0.41733352, 0.40195437, 0.25510752])>"
      ]
     },
     "execution_count": 21,
     "metadata": {},
     "output_type": "execute_result"
    }
   ],
   "source": [
    "obs = zfit.Space(\"obs1\", -3, 6)\n",
    "data_np = np.random.random(size=1000)\n",
    "data = zfit.Data(data_np, obs=obs)\n",
    "mean = zfit.Parameter(\"mean\", 1.0)\n",
    "std = zfit.Parameter(\"std\", 1.0)\n",
    "my_gauss = MyGauss(obs=obs, mean=mean, std=std)\n",
    "my_gauss.pdf(data)[:20]"
   ]
  },
  {
   "cell_type": "code",
   "execution_count": 22,
   "id": "ae1df9e8-2b53-4fcb-8e9f-6da34c980daa",
   "metadata": {},
   "outputs": [],
   "source": [
    "def gauss_integral_from_any_to_any(limits, params, model):\n",
    "    lower, upper = limits.v1.limits\n",
    "    mean = params[\"mean\"]\n",
    "    std = params[\"std\"]\n",
    "    # write your integral here\n",
    "    return mean * std  # dummy integral, must be a scalar!"
   ]
  },
  {
   "cell_type": "code",
   "execution_count": 23,
   "id": "09d3af76-7f88-4bf8-91a0-17de0b30cd7d",
   "metadata": {},
   "outputs": [],
   "source": [
    "limits = zfit.Space(axes=0, lower=zfit.Space.ANY_LOWER, upper=zfit.Space.ANY_UPPER)\n",
    "MyGauss.register_analytic_integral(func=gauss_integral_from_any_to_any, limits=limits)"
   ]
  },
  {
   "cell_type": "code",
   "execution_count": 24,
   "id": "6d80f935-7238-4c9b-849f-23bffb0ade2f",
   "metadata": {},
   "outputs": [],
   "source": [
    "import tensorflow_probability as tfp\n",
    "\n",
    "\n",
    "class JohnsonSU(zfit.pdf.WrapDistribution):\n",
    "    _N_OBS = 1\n",
    "\n",
    "    def __init__(\n",
    "        self,\n",
    "        mu,\n",
    "        lambd,\n",
    "        gamma,\n",
    "        delta,\n",
    "        obs,\n",
    "        extended=None,\n",
    "        norm=None,\n",
    "        name=\"JohnsonSU\",\n",
    "        label=None,\n",
    "    ):\n",
    "        mu, lambd, gamma, delta = self._check_input_params_tfp(mu, lambd, gamma, delta)\n",
    "        params = {\"mu\": mu, \"lambd\": lambd, \"gamma\": gamma, \"delta\": delta}\n",
    "\n",
    "        def dist_params():\n",
    "            return {\n",
    "                \"skewness\": gamma.value(),\n",
    "                \"tailweight\": delta.value(),\n",
    "                \"loc\": mu.value(),\n",
    "                \"scale\": lambd.value(),\n",
    "            }\n",
    "\n",
    "        distribution = tfp.distributions.JohnsonSU\n",
    "        super().__init__(\n",
    "            distribution=distribution,\n",
    "            dist_params=dist_params,\n",
    "            obs=obs,\n",
    "            params=params,\n",
    "            name=name,\n",
    "            extended=extended,\n",
    "            norm=norm,\n",
    "            label=label,\n",
    "        )"
   ]
  },
  {
   "cell_type": "code",
   "execution_count": 25,
   "id": "4bed40ad-391f-4b85-aeca-fb61bba99b1a",
   "metadata": {},
   "outputs": [
    {
     "data": {
      "text/plain": [
       "<tf.Tensor: shape=(20,), dtype=float64, numpy=\n",
       "array([0.12538851, 0.14123544, 0.0320667 , 0.25071288, 0.04293916,\n",
       "       0.05108749, 0.07121504, 0.09947468, 0.20712774, 0.13781783,\n",
       "       0.22816785, 0.07886887, 0.25187544, 0.02398333, 0.1142482 ,\n",
       "       0.01088529, 0.00179776, 0.21686711, 0.00083144, 0.01811153])>"
      ]
     },
     "execution_count": 25,
     "metadata": {},
     "output_type": "execute_result"
    }
   ],
   "source": [
    "obs = zfit.Space(\"obs1\", 1, 10)\n",
    "data_np = np.random.uniform(low=1, high=10, size=1000)\n",
    "data = zfit.Data(data_np, obs=obs)\n",
    "mu = zfit.Parameter(\"mu\", 8.0)\n",
    "lambd = zfit.Parameter(\"std\", 4.0)\n",
    "gamma = zfit.Parameter(\"gamma\", 2.0)\n",
    "delta = zfit.Parameter(\"delta\", 3.0)\n",
    "my_johnson = JohnsonSU(obs=obs, mu=mu, lambd=lambd, gamma=gamma, delta=delta)\n",
    "my_johnson.pdf(data)[:20]"
   ]
  }
 ],
 "metadata": {
  "kernelspec": {
   "display_name": "Python 3 (ipykernel)",
   "language": "python",
   "name": "python3"
  },
  "language_info": {
   "codemirror_mode": {
    "name": "ipython",
    "version": 3
   },
   "file_extension": ".py",
   "mimetype": "text/x-python",
   "name": "python",
   "nbconvert_exporter": "python",
   "pygments_lexer": "ipython3",
   "version": "3.11.9"
  }
 },
 "nbformat": 4,
 "nbformat_minor": 5
}
